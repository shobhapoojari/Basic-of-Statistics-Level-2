{
 "cells": [
  {
   "cell_type": "code",
   "execution_count": 1,
   "id": "3630bb43",
   "metadata": {},
   "outputs": [],
   "source": [
    "import pandas as pd\n",
    "import numpy as np\n",
    "from scipy import stats"
   ]
  },
  {
   "cell_type": "markdown",
   "id": "c2f1bed2",
   "metadata": {},
   "source": [
    "# Question 3"
   ]
  },
  {
   "cell_type": "code",
   "execution_count": 2,
   "id": "dd3e6aac",
   "metadata": {},
   "outputs": [],
   "source": [
    "n=100\n",
    "mu=50\n",
    "sigma=40\n",
    "#for $45\n",
    "z = (45-50)/(40/np.sqrt(100))"
   ]
  },
  {
   "cell_type": "code",
   "execution_count": 3,
   "id": "ec7889d5",
   "metadata": {},
   "outputs": [
    {
     "data": {
      "text/plain": [
       "-1.25"
      ]
     },
     "execution_count": 3,
     "metadata": {},
     "output_type": "execute_result"
    }
   ],
   "source": [
    "z"
   ]
  },
  {
   "cell_type": "code",
   "execution_count": 4,
   "id": "50756b4b",
   "metadata": {},
   "outputs": [
    {
     "data": {
      "text/plain": [
       "1.25"
      ]
     },
     "execution_count": 4,
     "metadata": {},
     "output_type": "execute_result"
    }
   ],
   "source": [
    "#for $55\n",
    "z1=(55-50)/(40/np.sqrt(100))\n",
    "z1"
   ]
  },
  {
   "cell_type": "code",
   "execution_count": 5,
   "id": "b1a08756",
   "metadata": {},
   "outputs": [
    {
     "data": {
      "text/plain": [
       "0.7887004526662893"
      ]
     },
     "execution_count": 5,
     "metadata": {},
     "output_type": "execute_result"
    }
   ],
   "source": [
    "stats.norm.cdf(1.25)-stats.norm.cdf(-1.25)#This is the probability of not initiate further investigations "
   ]
  },
  {
   "cell_type": "code",
   "execution_count": 6,
   "id": "d0b807cd",
   "metadata": {},
   "outputs": [
    {
     "data": {
      "text/plain": [
       "0.2112995473337107"
      ]
     },
     "execution_count": 6,
     "metadata": {},
     "output_type": "execute_result"
    }
   ],
   "source": [
    "1-0.7887004526662893# and here is the probability that will be an investigation"
   ]
  },
  {
   "cell_type": "markdown",
   "id": "b7e01c91",
   "metadata": {},
   "source": [
    "# Question 4"
   ]
  },
  {
   "cell_type": "code",
   "execution_count": 7,
   "id": "416c4a25",
   "metadata": {},
   "outputs": [],
   "source": [
    "#n=[(z_alpha*sigma)/(x_bar - mu)]^2"
   ]
  },
  {
   "cell_type": "code",
   "execution_count": 8,
   "id": "76c20486",
   "metadata": {},
   "outputs": [],
   "source": [
    "# at 5% level of signficance \n",
    "z_alpha=stats.norm.ppf(0.05/2)"
   ]
  },
  {
   "cell_type": "code",
   "execution_count": 9,
   "id": "e2d17a57",
   "metadata": {},
   "outputs": [
    {
     "data": {
      "text/plain": [
       "-1.9599639845400545"
      ]
     },
     "execution_count": 9,
     "metadata": {},
     "output_type": "execute_result"
    }
   ],
   "source": [
    "z_alpha#  we have to use the value z_alpha as absolute value"
   ]
  },
  {
   "cell_type": "code",
   "execution_count": 10,
   "id": "add46df9",
   "metadata": {},
   "outputs": [],
   "source": [
    "# in the given question we have to find \"n\" where sigma= 40, mu= 45and55 , x_bar= 50\n",
    "n=((1.96*40)/(50-45))**2"
   ]
  },
  {
   "cell_type": "code",
   "execution_count": 11,
   "id": "5d8e7c53",
   "metadata": {},
   "outputs": [
    {
     "data": {
      "text/plain": [
       "245.86240000000004"
      ]
     },
     "execution_count": 11,
     "metadata": {},
     "output_type": "execute_result"
    }
   ],
   "source": [
    "n"
   ]
  },
  {
   "cell_type": "markdown",
   "id": "6b084f10",
   "metadata": {},
   "source": [
    "# Approximate value of n is 250"
   ]
  },
  {
   "cell_type": "code",
   "execution_count": null,
   "id": "9d7bc5de",
   "metadata": {},
   "outputs": [],
   "source": []
  }
 ],
 "metadata": {
  "kernelspec": {
   "display_name": "Python 3 (ipykernel)",
   "language": "python",
   "name": "python3"
  },
  "language_info": {
   "codemirror_mode": {
    "name": "ipython",
    "version": 3
   },
   "file_extension": ".py",
   "mimetype": "text/x-python",
   "name": "python",
   "nbconvert_exporter": "python",
   "pygments_lexer": "ipython3",
   "version": "3.9.12"
  }
 },
 "nbformat": 4,
 "nbformat_minor": 5
}
