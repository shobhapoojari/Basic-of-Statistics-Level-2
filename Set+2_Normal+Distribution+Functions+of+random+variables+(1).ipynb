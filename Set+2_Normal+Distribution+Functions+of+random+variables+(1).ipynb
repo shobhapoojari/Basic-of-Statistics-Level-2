{
 "cells": [
  {
   "cell_type": "code",
   "execution_count": 1,
   "id": "74fd2310",
   "metadata": {},
   "outputs": [],
   "source": [
    "import numpy as np\n",
    "import pandas as pd\n",
    "from scipy import stats"
   ]
  },
  {
   "cell_type": "markdown",
   "id": "5aec5726",
   "metadata": {},
   "source": [
    "## Question1"
   ]
  },
  {
   "cell_type": "code",
   "execution_count": 2,
   "id": "1b3e7922",
   "metadata": {},
   "outputs": [
    {
     "data": {
      "text/plain": [
       "0.7340144709512995"
      ]
     },
     "execution_count": 2,
     "metadata": {},
     "output_type": "execute_result"
    }
   ],
   "source": [
    "# In this question we hae to find p(x>50)\n",
    "z_statistics=stats.norm.cdf(50,45,8)# p(x<=50)\n",
    "z_statistics"
   ]
  },
  {
   "cell_type": "code",
   "execution_count": 3,
   "id": "c5978891",
   "metadata": {},
   "outputs": [
    {
     "data": {
      "text/plain": [
       "0.26598552904870054"
      ]
     },
     "execution_count": 3,
     "metadata": {},
     "output_type": "execute_result"
    }
   ],
   "source": [
    "#but we have to find p(x>50)=1-p(x<=50)\n",
    "1-z_statistics # So option B is correct"
   ]
  },
  {
   "cell_type": "raw",
   "id": "ce4a1133",
   "metadata": {},
   "source": [
    "The answer for this question is 0.26"
   ]
  },
  {
   "cell_type": "markdown",
   "id": "1f57a5b5",
   "metadata": {},
   "source": [
    "# Question 2\n",
    "(a)"
   ]
  },
  {
   "cell_type": "code",
   "execution_count": 4,
   "id": "04298bb6",
   "metadata": {},
   "outputs": [
    {
     "data": {
      "text/plain": [
       "0.8413447460685429"
      ]
     },
     "execution_count": 4,
     "metadata": {},
     "output_type": "execute_result"
    }
   ],
   "source": [
    "#Here we have to find p(x>44)\n",
    "X = stats.norm.cdf(44,38,6)\n",
    "X"
   ]
  },
  {
   "cell_type": "code",
   "execution_count": 5,
   "id": "5bcbf544",
   "metadata": {},
   "outputs": [
    {
     "data": {
      "text/plain": [
       "0.15865525393145707"
      ]
     },
     "execution_count": 5,
     "metadata": {},
     "output_type": "execute_result"
    }
   ],
   "source": [
    "#p(x>44)=1-p(x<=44)\n",
    "z_statistics1=1-X\n",
    "z_statistics1"
   ]
  },
  {
   "cell_type": "raw",
   "id": "3f78c3bf",
   "metadata": {},
   "source": [
    "now we find the test statistics of 38 and 44 using the formula of \n",
    "[mu - test_statistics*sigma      mu + test_statistics*sigma]\n",
    "Given than [38  44]\n",
    " mu - test_statistics*sigma=38\n",
    " mu + test_statistics*sigma=44\n",
    "In the question it is given that mu=44 and sigma= 6 then find the test statistics of both the values"
   ]
  },
  {
   "cell_type": "code",
   "execution_count": 6,
   "id": "90e2d102",
   "metadata": {},
   "outputs": [],
   "source": [
    "# For x=38,(mu-38)/sigma\n",
    "test_statistics1=(38-38)/6"
   ]
  },
  {
   "cell_type": "code",
   "execution_count": 7,
   "id": "6ee98968",
   "metadata": {},
   "outputs": [],
   "source": [
    "#For x=44, (mu-44)/sigma\n",
    "test_statistics2=(44-38)/6"
   ]
  },
  {
   "cell_type": "code",
   "execution_count": 8,
   "id": "0d79d90c",
   "metadata": {},
   "outputs": [
    {
     "data": {
      "text/plain": [
       "0.0"
      ]
     },
     "execution_count": 8,
     "metadata": {},
     "output_type": "execute_result"
    }
   ],
   "source": [
    "test_statistics1"
   ]
  },
  {
   "cell_type": "code",
   "execution_count": 9,
   "id": "49e3b0ef",
   "metadata": {},
   "outputs": [
    {
     "data": {
      "text/plain": [
       "1.0"
      ]
     },
     "execution_count": 9,
     "metadata": {},
     "output_type": "execute_result"
    }
   ],
   "source": [
    "test_statistics2"
   ]
  },
  {
   "cell_type": "raw",
   "id": "9460674f",
   "metadata": {},
   "source": [
    "# so we have the z_statistics1 value is 0.15 which lie under this interval of test statistics.\n",
    "#Therefore the statement  that “More employees at the processing center are older than 44 than between 38 and 44” is TRUE"
   ]
  },
  {
   "cell_type": "markdown",
   "id": "98ff3deb",
   "metadata": {},
   "source": [
    "# Question 2\n",
    "(b)"
   ]
  },
  {
   "cell_type": "code",
   "execution_count": 10,
   "id": "c3e9755c",
   "metadata": {},
   "outputs": [
    {
     "data": {
      "text/plain": [
       "0.09121121972586788"
      ]
     },
     "execution_count": 10,
     "metadata": {},
     "output_type": "execute_result"
    }
   ],
   "source": [
    "# Here we have to find p(x<30)\n",
    "z_statistics2 = stats.norm.cdf(30,38,6)\n",
    "z_statistics2"
   ]
  },
  {
   "cell_type": "raw",
   "id": "de18d251",
   "metadata": {},
   "source": [
    "#So the number of employees with probability 0.912 of them being under age 30 = 0.0912*400=36.48( or 36 employees).\n",
    "#Therefore the statement B of the question is also TRUE."
   ]
  },
  {
   "cell_type": "markdown",
   "id": "6018351e",
   "metadata": {},
   "source": [
    "# Question 4"
   ]
  },
  {
   "cell_type": "code",
   "execution_count": 11,
   "id": "f3458484",
   "metadata": {},
   "outputs": [],
   "source": [
    "# we know that the confidence interval(CI)\n",
    "#[mu - test_statistics*sigma      mu + test_statistics*sigma]"
   ]
  },
  {
   "cell_type": "code",
   "execution_count": 12,
   "id": "8a4c2d88",
   "metadata": {},
   "outputs": [
    {
     "data": {
      "text/plain": [
       "[53.47304251918318]"
      ]
     },
     "execution_count": 12,
     "metadata": {},
     "output_type": "execute_result"
    }
   ],
   "source": [
    "[100-stats.norm.ppf(0.99)*20] "
   ]
  },
  {
   "cell_type": "code",
   "execution_count": 13,
   "id": "50860ffc",
   "metadata": {},
   "outputs": [
    {
     "data": {
      "text/plain": [
       "[146.5269574808168]"
      ]
     },
     "execution_count": 13,
     "metadata": {},
     "output_type": "execute_result"
    }
   ],
   "source": [
    "[100+stats.norm.ppf(0.99)*20]"
   ]
  },
  {
   "cell_type": "raw",
   "id": "ec5ce453",
   "metadata": {},
   "source": [
    "So we say that this value is under the option \"D\", so correct option is D = [146.5269574808168]"
   ]
  },
  {
   "cell_type": "markdown",
   "id": "f883a790",
   "metadata": {},
   "source": [
    "# Question 5\n",
    "(a)"
   ]
  },
  {
   "cell_type": "code",
   "execution_count": 14,
   "id": "f64c1a2b",
   "metadata": {},
   "outputs": [
    {
     "name": "stdout",
     "output_type": "stream",
     "text": [
      "Mean Profit is Rs 540 million\n"
     ]
    }
   ],
   "source": [
    "# Mean profits = mu1 + mu2\n",
    "mean = 5+7\n",
    "print('Mean Profit is Rs', mean*45,'million')# Here we have to multiply 45 because we have to solve as in rupees"
   ]
  },
  {
   "cell_type": "code",
   "execution_count": 15,
   "id": "437bff18",
   "metadata": {},
   "outputs": [
    {
     "name": "stdout",
     "output_type": "stream",
     "text": [
      "Standard Deviation is Rs 225.0 Million\n"
     ]
    }
   ],
   "source": [
    "# Variance of profits from two different divisions of a company = SD^2 = SD1^2 + SD2^2\n",
    "SD = np.sqrt((9)+(16))\n",
    "print('Standard Deviation is Rs', SD*45, 'Million')"
   ]
  },
  {
   "cell_type": "code",
   "execution_count": 16,
   "id": "5da37b8f",
   "metadata": {},
   "outputs": [
    {
     "name": "stdout",
     "output_type": "stream",
     "text": [
      "(99.00810347848784, 980.9918965215122)\n"
     ]
    }
   ],
   "source": [
    "print(stats.norm.interval(0.95,540,225))"
   ]
  },
  {
   "cell_type": "markdown",
   "id": "5b52d0ca",
   "metadata": {},
   "source": [
    "# Queston 5\n",
    "(b)"
   ]
  },
  {
   "cell_type": "code",
   "execution_count": 17,
   "id": "b162755a",
   "metadata": {},
   "outputs": [],
   "source": [
    "# For 5th percentile \n",
    "z=stats.norm.ppf(0.05)"
   ]
  },
  {
   "cell_type": "code",
   "execution_count": 18,
   "id": "71a66b1e",
   "metadata": {},
   "outputs": [
    {
     "name": "stdout",
     "output_type": "stream",
     "text": [
      "5th percentile of profit (in Million Rupees) is 169.9079339359186\n"
     ]
    }
   ],
   "source": [
    "# To compute 5th Percentile, we use the formula X=μ + Zσ; wherein from z table, 5 percentile = -1.645\n",
    "X= 540+z*(225)\n",
    "print('5th percentile of profit (in Million Rupees) is',X)"
   ]
  },
  {
   "cell_type": "markdown",
   "id": "afa3d8cf",
   "metadata": {},
   "source": [
    "# Question 5\n",
    "(c)"
   ]
  },
  {
   "cell_type": "code",
   "execution_count": 19,
   "id": "a2a06da1",
   "metadata": {},
   "outputs": [
    {
     "data": {
      "text/plain": [
       "0.0477903522728147"
      ]
     },
     "execution_count": 19,
     "metadata": {},
     "output_type": "execute_result"
    }
   ],
   "source": [
    "# Probability of Division 1 making a loss P(X<0)\n",
    "stats.norm.cdf(0,5,3)"
   ]
  },
  {
   "cell_type": "code",
   "execution_count": 20,
   "id": "b924d308",
   "metadata": {},
   "outputs": [
    {
     "data": {
      "text/plain": [
       "0.040059156863817086"
      ]
     },
     "execution_count": 20,
     "metadata": {},
     "output_type": "execute_result"
    }
   ],
   "source": [
    "# Probability of Division 2 making a loss P(X<0)\n",
    "stats.norm.cdf(0,7,4)"
   ]
  },
  {
   "cell_type": "code",
   "execution_count": 21,
   "id": "362c4317",
   "metadata": {},
   "outputs": [
    {
     "data": {
      "text/plain": [
       "(48.48341392902199, 151.516586070978)"
      ]
     },
     "execution_count": 21,
     "metadata": {},
     "output_type": "execute_result"
    }
   ],
   "source": [
    "stats.norm.interval(0.99,100,20)"
   ]
  },
  {
   "cell_type": "code",
   "execution_count": 22,
   "id": "dc0b772a",
   "metadata": {},
   "outputs": [
    {
     "data": {
      "text/plain": [
       "(-505.1781041172667, 545.1781041172667)"
      ]
     },
     "execution_count": 22,
     "metadata": {},
     "output_type": "execute_result"
    }
   ],
   "source": [
    "stats.t.interval(0.99,100,20,200)"
   ]
  }
 ],
 "metadata": {
  "kernelspec": {
   "display_name": "Python 3 (ipykernel)",
   "language": "python",
   "name": "python3"
  },
  "language_info": {
   "codemirror_mode": {
    "name": "ipython",
    "version": 3
   },
   "file_extension": ".py",
   "mimetype": "text/x-python",
   "name": "python",
   "nbconvert_exporter": "python",
   "pygments_lexer": "ipython3",
   "version": "3.9.12"
  }
 },
 "nbformat": 4,
 "nbformat_minor": 5
}
