{
 "cells": [
  {
   "cell_type": "markdown",
   "id": "3c16381d",
   "metadata": {},
   "source": [
    "# Topics: Normal distribution, Functions of Random Variables\n",
    "             "
   ]
  },
  {
   "cell_type": "markdown",
   "id": "ff743ddf",
   "metadata": {},
   "source": [
    "# Question 1"
   ]
  },
  {
   "cell_type": "code",
   "execution_count": 1,
   "id": "5098fa49",
   "metadata": {},
   "outputs": [],
   "source": [
    "from scipy import stats\n",
    "from scipy.stats import norm"
   ]
  },
  {
   "cell_type": "code",
   "execution_count": 2,
   "id": "25375538",
   "metadata": {},
   "outputs": [],
   "source": [
    "#find the Z-score\n",
    "z = (50-45)/8"
   ]
  },
  {
   "cell_type": "code",
   "execution_count": 3,
   "id": "c939a022",
   "metadata": {},
   "outputs": [
    {
     "data": {
      "text/plain": [
       "0.625"
      ]
     },
     "execution_count": 3,
     "metadata": {},
     "output_type": "execute_result"
    }
   ],
   "source": [
    "z"
   ]
  },
  {
   "cell_type": "code",
   "execution_count": 4,
   "id": "1a454d1f",
   "metadata": {},
   "outputs": [
    {
     "data": {
      "text/plain": [
       "0.26598552904870054"
      ]
     },
     "execution_count": 4,
     "metadata": {},
     "output_type": "execute_result"
    }
   ],
   "source": [
    "#find the probability p(x>50) = 1-stats.norm.cdf(abs(z-score))\n",
    "1-stats.norm.cdf(abs(0.625))"
   ]
  },
  {
   "cell_type": "code",
   "execution_count": 5,
   "id": "a9464a2f",
   "metadata": {},
   "outputs": [
    {
     "data": {
      "text/plain": [
       "0.7340144709512995"
      ]
     },
     "execution_count": 5,
     "metadata": {},
     "output_type": "execute_result"
    }
   ],
   "source": [
    "p_value = stats.norm.cdf(abs(0.625))\n",
    "p_value"
   ]
  },
  {
   "cell_type": "code",
   "execution_count": 6,
   "id": "9b0ff68d",
   "metadata": {},
   "outputs": [
    {
     "data": {
      "text/plain": [
       "0.266"
      ]
     },
     "execution_count": 6,
     "metadata": {},
     "output_type": "execute_result"
    }
   ],
   "source": [
    "#p(x>50) = 1 - p(x<=50)\n",
    "1-0.734"
   ]
  },
  {
   "cell_type": "markdown",
   "id": "da37b808",
   "metadata": {},
   "source": [
    "# Question 2B"
   ]
  },
  {
   "cell_type": "code",
   "execution_count": 7,
   "id": "1c8f1624",
   "metadata": {},
   "outputs": [
    {
     "data": {
      "text/plain": [
       "36.484487890347154"
      ]
     },
     "execution_count": 7,
     "metadata": {},
     "output_type": "execute_result"
    }
   ],
   "source": [
    "stats.norm.cdf(30,loc=38,scale=6)*400"
   ]
  },
  {
   "cell_type": "markdown",
   "id": "a258299a",
   "metadata": {},
   "source": [
    "# Question 4"
   ]
  },
  {
   "cell_type": "code",
   "execution_count": 8,
   "id": "cbd63700",
   "metadata": {},
   "outputs": [
    {
     "data": {
      "text/plain": [
       "(48.48341392902199, 151.516586070978)"
      ]
     },
     "execution_count": 8,
     "metadata": {},
     "output_type": "execute_result"
    }
   ],
   "source": [
    "stats.norm.interval(0.99,100,20)"
   ]
  },
  {
   "cell_type": "markdown",
   "id": "20bd5c84",
   "metadata": {},
   "source": [
    "# Question 5A"
   ]
  },
  {
   "cell_type": "code",
   "execution_count": 9,
   "id": "abfe7093",
   "metadata": {},
   "outputs": [],
   "source": [
    "import numpy as np\n",
    "z = np.abs(stats.norm.ppf((1-0.95)/2))\n",
    "m = 12\n",
    "s = 5"
   ]
  },
  {
   "cell_type": "code",
   "execution_count": 10,
   "id": "2ecf946c",
   "metadata": {},
   "outputs": [
    {
     "data": {
      "text/plain": [
       "(2.2001800772997306, 21.79981992270027)"
      ]
     },
     "execution_count": 10,
     "metadata": {},
     "output_type": "execute_result"
    }
   ],
   "source": [
    "c = (m-(z*s),m+(z*s))\n",
    "c"
   ]
  },
  {
   "cell_type": "markdown",
   "id": "c63a958e",
   "metadata": {},
   "source": [
    "# Question 5B"
   ]
  },
  {
   "cell_type": "code",
   "execution_count": 11,
   "id": "0235161d",
   "metadata": {},
   "outputs": [
    {
     "data": {
      "text/plain": [
       "3.7757318652426353"
      ]
     },
     "execution_count": 11,
     "metadata": {},
     "output_type": "execute_result"
    }
   ],
   "source": [
    "stats.norm.ppf(0.05,loc=12,scale=5)"
   ]
  },
  {
   "cell_type": "markdown",
   "id": "8f81b376",
   "metadata": {},
   "source": [
    "# Question 5C"
   ]
  },
  {
   "cell_type": "code",
   "execution_count": 12,
   "id": "be1fdf02",
   "metadata": {},
   "outputs": [
    {
     "name": "stdout",
     "output_type": "stream",
     "text": [
      "0.0477903522728147 0.040059156863817086\n"
     ]
    }
   ],
   "source": [
    "p1=stats.norm.cdf(0,loc=5,scale=3)\n",
    "p2=stats.norm.cdf(0,loc=7,scale=4)\n",
    "print(p1,p2)"
   ]
  },
  {
   "cell_type": "markdown",
   "id": "1925de14",
   "metadata": {},
   "source": [
    "# Topics: Sampling Distributions and Central Limit Theorem"
   ]
  },
  {
   "cell_type": "markdown",
   "id": "a90f5717",
   "metadata": {},
   "source": [
    "# Question 3"
   ]
  },
  {
   "cell_type": "code",
   "execution_count": 13,
   "id": "b65ef252",
   "metadata": {},
   "outputs": [
    {
     "data": {
      "text/plain": [
       "(-1.25, 1.25)"
      ]
     },
     "execution_count": 13,
     "metadata": {},
     "output_type": "execute_result"
    }
   ],
   "source": [
    "t = ((45-50)/((40/100**0.5)),(55-50)/((40/100**0.5)))\n",
    "t"
   ]
  },
  {
   "cell_type": "code",
   "execution_count": 14,
   "id": "93491776",
   "metadata": {},
   "outputs": [],
   "source": [
    "p = stats.t.cdf(t[1],df=99)-stats.t.cdf(t[0],df=99)"
   ]
  },
  {
   "cell_type": "code",
   "execution_count": 15,
   "id": "e48efa03",
   "metadata": {},
   "outputs": [
    {
     "data": {
      "text/plain": [
       "0.2142463375683865"
      ]
     },
     "execution_count": 15,
     "metadata": {},
     "output_type": "execute_result"
    }
   ],
   "source": [
    "1-p"
   ]
  },
  {
   "cell_type": "markdown",
   "id": "41a03f48",
   "metadata": {},
   "source": [
    "# Question 4"
   ]
  },
  {
   "cell_type": "code",
   "execution_count": 16,
   "id": "ad899604",
   "metadata": {},
   "outputs": [
    {
     "data": {
      "text/plain": [
       "-1.9695368676395828"
      ]
     },
     "execution_count": 16,
     "metadata": {},
     "output_type": "execute_result"
    }
   ],
   "source": [
    "stats.t.ppf(0.025,df=249)"
   ]
  },
  {
   "cell_type": "code",
   "execution_count": 17,
   "id": "c3a54e95",
   "metadata": {},
   "outputs": [
    {
     "data": {
      "text/plain": [
       "-1.9842169515086832"
      ]
     },
     "execution_count": 17,
     "metadata": {},
     "output_type": "execute_result"
    }
   ],
   "source": [
    "stats.t.ppf(0.025,df=99)"
   ]
  },
  {
   "cell_type": "markdown",
   "id": "e7613efa",
   "metadata": {},
   "source": [
    "# Question 5"
   ]
  },
  {
   "cell_type": "code",
   "execution_count": 18,
   "id": "336523e2",
   "metadata": {},
   "outputs": [
    {
     "data": {
      "text/plain": [
       "-1.976423537605237"
      ]
     },
     "execution_count": 18,
     "metadata": {},
     "output_type": "execute_result"
    }
   ],
   "source": [
    "t = (45-50)/((40/250**0.5))\n",
    "t"
   ]
  },
  {
   "cell_type": "code",
   "execution_count": 19,
   "id": "78accb6f",
   "metadata": {},
   "outputs": [
    {
     "data": {
      "text/plain": [
       "0.02460519919934705"
      ]
     },
     "execution_count": 19,
     "metadata": {},
     "output_type": "execute_result"
    }
   ],
   "source": [
    "stats.t.cdf(t,249)"
   ]
  },
  {
   "cell_type": "code",
   "execution_count": null,
   "id": "fa5cf253",
   "metadata": {},
   "outputs": [],
   "source": []
  }
 ],
 "metadata": {
  "kernelspec": {
   "display_name": "Python 3 (ipykernel)",
   "language": "python",
   "name": "python3"
  },
  "language_info": {
   "codemirror_mode": {
    "name": "ipython",
    "version": 3
   },
   "file_extension": ".py",
   "mimetype": "text/x-python",
   "name": "python",
   "nbconvert_exporter": "python",
   "pygments_lexer": "ipython3",
   "version": "3.9.12"
  }
 },
 "nbformat": 4,
 "nbformat_minor": 5
}
